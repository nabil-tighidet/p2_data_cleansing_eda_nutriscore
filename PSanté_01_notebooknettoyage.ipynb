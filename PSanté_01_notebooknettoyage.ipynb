{
 "cells": [
  {
   "cell_type": "code",
   "execution_count": 8,
   "metadata": {},
   "outputs": [],
   "source": [
    "import pandas as pd, numpy as np, matplotlib.pyplot as plt, seaborn as sns, os"
   ]
  },
  {
   "cell_type": "code",
   "execution_count": 2,
   "metadata": {},
   "outputs": [],
   "source": [
    "from sklearn.impute import KNNImputer"
   ]
  },
  {
   "cell_type": "code",
   "execution_count": 3,
   "metadata": {},
   "outputs": [],
   "source": [
    "from sklearn.preprocessing import MinMaxScaler"
   ]
  },
  {
   "cell_type": "code",
   "execution_count": 72,
   "metadata": {},
   "outputs": [
    {
     "name": "stderr",
     "output_type": "stream",
     "text": [
      "C:\\Users\\Nabil\\AppData\\Local\\Temp\\ipykernel_18996\\1242553857.py:1: DtypeWarning: Columns (66) have mixed types. Specify dtype option on import or set low_memory=False.\n",
      "  data = pd.concat([pd.read_csv('en.openfoodfacts.org.products/' + f) for f in os.listdir('en.openfoodfacts.org.products')], axis = 0).reset_index(drop=True)\n",
      "C:\\Users\\Nabil\\AppData\\Local\\Temp\\ipykernel_18996\\1242553857.py:1: DtypeWarning: Columns (66) have mixed types. Specify dtype option on import or set low_memory=False.\n",
      "  data = pd.concat([pd.read_csv('en.openfoodfacts.org.products/' + f) for f in os.listdir('en.openfoodfacts.org.products')], axis = 0).reset_index(drop=True)\n"
     ]
    }
   ],
   "source": [
    "data = pd.concat([pd.read_csv('en.openfoodfacts.org.products/' + f) for f in os.listdir('en.openfoodfacts.org.products')], axis = 0).reset_index(drop=True)"
   ]
  },
  {
   "cell_type": "code",
   "execution_count": 73,
   "metadata": {},
   "outputs": [
    {
     "data": {
      "text/html": [
       "<div>\n",
       "<style scoped>\n",
       "    .dataframe tbody tr th:only-of-type {\n",
       "        vertical-align: middle;\n",
       "    }\n",
       "\n",
       "    .dataframe tbody tr th {\n",
       "        vertical-align: top;\n",
       "    }\n",
       "\n",
       "    .dataframe thead th {\n",
       "        text-align: right;\n",
       "    }\n",
       "</style>\n",
       "<table border=\"1\" class=\"dataframe\">\n",
       "  <thead>\n",
       "    <tr style=\"text-align: right;\">\n",
       "      <th></th>\n",
       "      <th>code</th>\n",
       "      <th>url</th>\n",
       "      <th>creator</th>\n",
       "      <th>created_t</th>\n",
       "      <th>created_datetime</th>\n",
       "      <th>last_modified_t</th>\n",
       "      <th>last_modified_datetime</th>\n",
       "      <th>product_name</th>\n",
       "      <th>abbreviated_product_name</th>\n",
       "      <th>generic_name</th>\n",
       "      <th>...</th>\n",
       "      <th>carbon-footprint-from-meat-or-fish_100g</th>\n",
       "      <th>nutrition-score-fr_100g</th>\n",
       "      <th>nutrition-score-uk_100g</th>\n",
       "      <th>glycemic-index_100g</th>\n",
       "      <th>water-hardness_100g</th>\n",
       "      <th>choline_100g</th>\n",
       "      <th>phylloquinone_100g</th>\n",
       "      <th>beta-glucan_100g</th>\n",
       "      <th>inositol_100g</th>\n",
       "      <th>carnitine_100g</th>\n",
       "    </tr>\n",
       "  </thead>\n",
       "  <tbody>\n",
       "    <tr>\n",
       "      <th>0</th>\n",
       "      <td>5701263901480</td>\n",
       "      <td>http://world-en.openfoodfacts.org/product/5701...</td>\n",
       "      <td>date-limite-app</td>\n",
       "      <td>1494662897</td>\n",
       "      <td>2017-05-13T08:08:17Z</td>\n",
       "      <td>1494662898</td>\n",
       "      <td>2017-05-13T08:08:18Z</td>\n",
       "      <td>Hareng sauce moutarde</td>\n",
       "      <td>NaN</td>\n",
       "      <td>NaN</td>\n",
       "      <td>...</td>\n",
       "      <td>NaN</td>\n",
       "      <td>NaN</td>\n",
       "      <td>NaN</td>\n",
       "      <td>NaN</td>\n",
       "      <td>NaN</td>\n",
       "      <td>NaN</td>\n",
       "      <td>NaN</td>\n",
       "      <td>NaN</td>\n",
       "      <td>NaN</td>\n",
       "      <td>NaN</td>\n",
       "    </tr>\n",
       "    <tr>\n",
       "      <th>1</th>\n",
       "      <td>41303069363</td>\n",
       "      <td>http://world-en.openfoodfacts.org/product/0041...</td>\n",
       "      <td>org-database-usda</td>\n",
       "      <td>1587640593</td>\n",
       "      <td>2020-04-23T11:16:33Z</td>\n",
       "      <td>1587640593</td>\n",
       "      <td>2020-04-23T11:16:33Z</td>\n",
       "      <td>Super fruit papaya chunks</td>\n",
       "      <td>NaN</td>\n",
       "      <td>NaN</td>\n",
       "      <td>...</td>\n",
       "      <td>NaN</td>\n",
       "      <td>-6.0</td>\n",
       "      <td>NaN</td>\n",
       "      <td>NaN</td>\n",
       "      <td>NaN</td>\n",
       "      <td>NaN</td>\n",
       "      <td>NaN</td>\n",
       "      <td>NaN</td>\n",
       "      <td>NaN</td>\n",
       "      <td>NaN</td>\n",
       "    </tr>\n",
       "    <tr>\n",
       "      <th>2</th>\n",
       "      <td>3700216223589</td>\n",
       "      <td>http://world-en.openfoodfacts.org/product/3700...</td>\n",
       "      <td>kiliweb</td>\n",
       "      <td>1584271146</td>\n",
       "      <td>2020-03-15T11:19:06Z</td>\n",
       "      <td>1592951617</td>\n",
       "      <td>2020-06-23T22:33:37Z</td>\n",
       "      <td>Acerola</td>\n",
       "      <td>NaN</td>\n",
       "      <td>NaN</td>\n",
       "      <td>...</td>\n",
       "      <td>NaN</td>\n",
       "      <td>NaN</td>\n",
       "      <td>NaN</td>\n",
       "      <td>NaN</td>\n",
       "      <td>NaN</td>\n",
       "      <td>NaN</td>\n",
       "      <td>NaN</td>\n",
       "      <td>NaN</td>\n",
       "      <td>NaN</td>\n",
       "      <td>NaN</td>\n",
       "    </tr>\n",
       "    <tr>\n",
       "      <th>3</th>\n",
       "      <td>5010251774464</td>\n",
       "      <td>http://world-en.openfoodfacts.org/product/5010...</td>\n",
       "      <td>openfoodfacts-contributors</td>\n",
       "      <td>1529328989</td>\n",
       "      <td>2018-06-18T13:36:29Z</td>\n",
       "      <td>1631986249</td>\n",
       "      <td>2021-09-18T17:30:49Z</td>\n",
       "      <td>Minced beef</td>\n",
       "      <td>NaN</td>\n",
       "      <td>NaN</td>\n",
       "      <td>...</td>\n",
       "      <td>NaN</td>\n",
       "      <td>NaN</td>\n",
       "      <td>NaN</td>\n",
       "      <td>NaN</td>\n",
       "      <td>NaN</td>\n",
       "      <td>NaN</td>\n",
       "      <td>NaN</td>\n",
       "      <td>NaN</td>\n",
       "      <td>NaN</td>\n",
       "      <td>NaN</td>\n",
       "    </tr>\n",
       "    <tr>\n",
       "      <th>4</th>\n",
       "      <td>8173317</td>\n",
       "      <td>http://world-en.openfoodfacts.org/product/0817...</td>\n",
       "      <td>foodrepo</td>\n",
       "      <td>1548767033</td>\n",
       "      <td>2019-01-29T13:03:53Z</td>\n",
       "      <td>1582925345</td>\n",
       "      <td>2020-02-28T21:29:05Z</td>\n",
       "      <td>Krini Pepperoni grec moyen</td>\n",
       "      <td>NaN</td>\n",
       "      <td>NaN</td>\n",
       "      <td>...</td>\n",
       "      <td>NaN</td>\n",
       "      <td>NaN</td>\n",
       "      <td>NaN</td>\n",
       "      <td>NaN</td>\n",
       "      <td>NaN</td>\n",
       "      <td>NaN</td>\n",
       "      <td>NaN</td>\n",
       "      <td>NaN</td>\n",
       "      <td>NaN</td>\n",
       "      <td>NaN</td>\n",
       "    </tr>\n",
       "  </tbody>\n",
       "</table>\n",
       "<p>5 rows × 187 columns</p>\n",
       "</div>"
      ],
      "text/plain": [
       "            code                                                url  \\\n",
       "0  5701263901480  http://world-en.openfoodfacts.org/product/5701...   \n",
       "1    41303069363  http://world-en.openfoodfacts.org/product/0041...   \n",
       "2  3700216223589  http://world-en.openfoodfacts.org/product/3700...   \n",
       "3  5010251774464  http://world-en.openfoodfacts.org/product/5010...   \n",
       "4        8173317  http://world-en.openfoodfacts.org/product/0817...   \n",
       "\n",
       "                      creator   created_t      created_datetime  \\\n",
       "0             date-limite-app  1494662897  2017-05-13T08:08:17Z   \n",
       "1           org-database-usda  1587640593  2020-04-23T11:16:33Z   \n",
       "2                     kiliweb  1584271146  2020-03-15T11:19:06Z   \n",
       "3  openfoodfacts-contributors  1529328989  2018-06-18T13:36:29Z   \n",
       "4                    foodrepo  1548767033  2019-01-29T13:03:53Z   \n",
       "\n",
       "   last_modified_t last_modified_datetime                product_name  \\\n",
       "0       1494662898   2017-05-13T08:08:18Z       Hareng sauce moutarde   \n",
       "1       1587640593   2020-04-23T11:16:33Z   Super fruit papaya chunks   \n",
       "2       1592951617   2020-06-23T22:33:37Z                     Acerola   \n",
       "3       1631986249   2021-09-18T17:30:49Z                 Minced beef   \n",
       "4       1582925345   2020-02-28T21:29:05Z  Krini Pepperoni grec moyen   \n",
       "\n",
       "  abbreviated_product_name generic_name  ...  \\\n",
       "0                      NaN          NaN  ...   \n",
       "1                      NaN          NaN  ...   \n",
       "2                      NaN          NaN  ...   \n",
       "3                      NaN          NaN  ...   \n",
       "4                      NaN          NaN  ...   \n",
       "\n",
       "  carbon-footprint-from-meat-or-fish_100g nutrition-score-fr_100g  \\\n",
       "0                                     NaN                     NaN   \n",
       "1                                     NaN                    -6.0   \n",
       "2                                     NaN                     NaN   \n",
       "3                                     NaN                     NaN   \n",
       "4                                     NaN                     NaN   \n",
       "\n",
       "  nutrition-score-uk_100g glycemic-index_100g water-hardness_100g  \\\n",
       "0                     NaN                 NaN                 NaN   \n",
       "1                     NaN                 NaN                 NaN   \n",
       "2                     NaN                 NaN                 NaN   \n",
       "3                     NaN                 NaN                 NaN   \n",
       "4                     NaN                 NaN                 NaN   \n",
       "\n",
       "  choline_100g phylloquinone_100g beta-glucan_100g inositol_100g  \\\n",
       "0          NaN                NaN              NaN           NaN   \n",
       "1          NaN                NaN              NaN           NaN   \n",
       "2          NaN                NaN              NaN           NaN   \n",
       "3          NaN                NaN              NaN           NaN   \n",
       "4          NaN                NaN              NaN           NaN   \n",
       "\n",
       "  carnitine_100g  \n",
       "0            NaN  \n",
       "1            NaN  \n",
       "2            NaN  \n",
       "3            NaN  \n",
       "4            NaN  \n",
       "\n",
       "[5 rows x 187 columns]"
      ]
     },
     "execution_count": 73,
     "metadata": {},
     "output_type": "execute_result"
    }
   ],
   "source": [
    "data.head()"
   ]
  },
  {
   "cell_type": "markdown",
   "metadata": {},
   "source": [
    "# <p style='text-align:center'> Nettoyage de l'energie </p>"
   ]
  },
  {
   "cell_type": "code",
   "execution_count": 74,
   "metadata": {},
   "outputs": [
    {
     "name": "stderr",
     "output_type": "stream",
     "text": [
      "C:\\Users\\Nabil\\AppData\\Local\\Programs\\Python\\Python310\\lib\\site-packages\\pandas\\core\\apply.py:867: RuntimeWarning: Mean of empty slice\n",
      "  results[i] = self.f(v)\n"
     ]
    }
   ],
   "source": [
    "energy=data[['energy-kj_100g', 'energy-kcal_100g', 'energy_100g']].copy()\n",
    "energy['energy_100g']=energy['energy_100g']*(1/4.184)\n",
    "energy['energy-kj_100g']=energy['energy-kj_100g']*(1/4.184)\n",
    "energy['energy_kcal_100g']=energy.apply(np.nanmean,axis=1)\n",
    "data['energy_kcal_100g']=energy['energy_kcal_100g']"
   ]
  },
  {
   "cell_type": "markdown",
   "metadata": {},
   "source": [
    "# <p style='text-align:center'> Selection des variables </p>"
   ]
  },
  {
   "cell_type": "markdown",
   "metadata": {},
   "source": [
    "Le premier critère de choix pour la suppression des variables est le taux de complétion. Dans la pratique, une variable qui n’est pas suffisamment renseigné est difficilement exploitable. De plus, comme nous allons être amené à utiliser un KNNImputer et qu'il s'agit d'un algorithme qui, appliqué avec des variables peu renseignées ne produirai pas des résultats fiables, (Manque de données de références) on choisit de fixer un seuil minimum de complétion à 20%."
   ]
  },
  {
   "cell_type": "markdown",
   "metadata": {},
   "source": [
    "## Sélection des variable sur la base du taux de complétion"
   ]
  },
  {
   "cell_type": "code",
   "execution_count": 75,
   "metadata": {},
   "outputs": [
    {
     "data": {
      "text/plain": [
       "Text(0.5, 1.0, 'histogramme des taux de completion des variables')"
      ]
     },
     "execution_count": 75,
     "metadata": {},
     "output_type": "execute_result"
    },
    {
     "data": {
      "image/png": "[encoded data removed]",
      "text/plain": [
       "<Figure size 720x720 with 1 Axes>"
      ]
     },
     "metadata": {
      "needs_background": "light"
     },
     "output_type": "display_data"
    }
   ],
   "source": [
    "n_product = data.shape[0]\n",
    "completion_rate = pd.DataFrame(data=((data.describe()).loc['count'])*(100/n_product))\n",
    "completion_rate['slice'] = pd.cut(completion_rate['count'],5).astype('str')\n",
    "completion_rate.sort_values(by=\"slice\",ascending=True)['slice'].hist(figsize=(10,10)).set_title('histogramme des taux de completion des variables')"
   ]
  },
  {
   "cell_type": "code",
   "execution_count": 76,
   "metadata": {},
   "outputs": [],
   "source": [
    "# On décide de fixer un seuil minimum de 20 % pour le taux de complétion des variables que l'on conserve. On supprime les\n",
    "# variables dont le taux de complétion est inférieur à ce seuil.\n",
    "min_comp_rate=20\n",
    "liste_remove_1=list(completion_rate[completion_rate['count']<=min_comp_rate].index)"
   ]
  },
  {
   "cell_type": "markdown",
   "metadata": {},
   "source": [
    "## La suppression des variables doublons"
   ]
  },
  {
   "cell_type": "code",
   "execution_count": 77,
   "metadata": {},
   "outputs": [],
   "source": [
    "# Les variables suivantes sont des doublons de variables que nous avons choisi de conserver\n",
    "liste_doublons=['created_t',\n",
    "    'last_modified_t',\n",
    "    'energy-kcal_100g', \n",
    "    'energy_100g',\n",
    "    'main_category',\n",
    "    'origins',\n",
    "    'labels',\n",
    "    'countries',    \n",
    "    'categories_en', \n",
    "    'categories', \n",
    "    'nutriscore_score',\n",
    "    'traces',\n",
    "    'emb_codes', \n",
    "    'additives_n',\n",
    "    'states_en']"
   ]
  },
  {
   "cell_type": "markdown",
   "metadata": {},
   "source": [
    "## Selection des variables par analyse métier"
   ]
  },
  {
   "cell_type": "code",
   "execution_count": 78,
   "metadata": {},
   "outputs": [],
   "source": [
    "# Notre projet d'application ne requiert pas l'utilisations des variables tags suivantes\n",
    "liste_tags=['emb_codes_tags',\n",
    "    'labels_tags',\n",
    "    'countries_tags',\n",
    "    'origins_tags', \n",
    "    'additives_tags',\n",
    "    'manufacturing_places_tags',\n",
    "    'ingredients_from_palm_oil_tags', \n",
    "    'ingredients_that_may_be_from_palm_oil_tags',\n",
    "    'states_tags',\n",
    "    'brands_tags',\n",
    "    'categories_tags', \n",
    "    'packaging_tags',\n",
    "    'traces_tags']"
   ]
  },
  {
   "cell_type": "code",
   "execution_count": 79,
   "metadata": {},
   "outputs": [],
   "source": [
    "# Les variables suivantes ne sont pas pertinentes pour notre projet d'application \n",
    "liste_irrelevants_variables=['image_url',\n",
    "    'image_ingredients_url',\n",
    "    'image_ingredients_small_url', \n",
    "    'image_nutrition_url', \n",
    "    'image_nutrition_small_url',\n",
    "    'ingredients_that_may_be_from_palm_oil_n', \n",
    "    'creator',\n",
    "    'brand_owner',\n",
    "    'abbreviated_product_name',\n",
    "    'generic_name',\n",
    "    'packaging',\n",
    "    'quantity',\n",
    "    'serving_size', \n",
    "    'serving_quantity', \n",
    "    'pnns_groups_1',\n",
    "    'packaging_text']"
   ]
  },
  {
   "cell_type": "code",
   "execution_count": 80,
   "metadata": {},
   "outputs": [
    {
     "name": "stdout",
     "output_type": "stream",
     "text": [
      "['code', 'url', 'created_datetime', 'last_modified_datetime', 'product_name', 'brands', 'origins_en', 'manufacturing_places', 'labels_en', 'first_packaging_code_geo', 'cities_tags', 'purchase_places', 'stores', 'countries_en', 'ingredients_text', 'allergens', 'traces_en', 'additives_en', 'ingredients_from_palm_oil_n', 'nutriscore_grade', 'nova_group', 'pnns_groups_2', 'states', 'ecoscore_grade_fr', 'main_category_en', 'image_small_url', 'fat_100g', 'saturated-fat_100g', 'carbohydrates_100g', 'sugars_100g', 'fiber_100g', 'proteins_100g', 'salt_100g', 'sodium_100g', 'fruits-vegetables-nuts-estimate-from-ingredients_100g', 'nutrition-score-fr_100g', 'energy_kcal_100g']\n"
     ]
    }
   ],
   "source": [
    "column_to_keep=list(data.columns)\n",
    "liste_remove= liste_remove_1 + liste_doublons+liste_tags+liste_irrelevants_variables\n",
    "for item in liste_remove:\n",
    "    column_to_keep.remove(item)\n",
    "print(column_to_keep)"
   ]
  },
  {
   "cell_type": "code",
   "execution_count": 81,
   "metadata": {},
   "outputs": [],
   "source": [
    "# On filtre les variables dont on a pas besoin\n",
    "data_2=data[column_to_keep]"
   ]
  },
  {
   "cell_type": "markdown",
   "metadata": {},
   "source": [
    "# <p style='text-align:center'> Vérification des valeurs abbérentes </p>"
   ]
  },
  {
   "cell_type": "markdown",
   "metadata": {},
   "source": [
    "Pour des raisons évidentes, les données nutritionnelles qui sont quantifiées en gramme sur 100g de chaque produit ne peuvent pas dépasser 100. Par exemple la variable fat_100g qui correspond à la quantité de matières grasses pour 100g de produit ne peux pas valoir 130g. De même on sait que l'energie en kcal ne peut dépasser 900 kcal (limite maximal d'energie pour 100g d'un produit). Des valeurs qui ne respecteraient pas ces conditions sont des valeurs abbérentes. La partie qui suit à pour but de les supprimer de notre dataset."
   ]
  },
  {
   "cell_type": "code",
   "execution_count": 82,
   "metadata": {},
   "outputs": [],
   "source": [
    "limits={'fat_100g':[0,100],'saturated-fat_100g':[0,100],'sodium_100g':[0,100],'carbohydrates_100g':[0,100],'sugars_100g':[0,100],'fiber_100g':[0,100],'proteins_100g':[0,100],'salt_100g':[0,100],'sodium_100g':[0,100], 'fruits-vegetables-nuts-estimate-from-ingredients_100g':[0,100],'nutrition-score-fr_100g':[-15,40],'energy_kcal_100g':[0,900]}"
   ]
  },
  {
   "cell_type": "code",
   "execution_count": 83,
   "metadata": {},
   "outputs": [
    {
     "name": "stderr",
     "output_type": "stream",
     "text": [
      "C:\\Users\\Nabil\\AppData\\Local\\Temp\\ipykernel_18996\\1214505524.py:2: SettingWithCopyWarning: \n",
      "A value is trying to be set on a copy of a slice from a DataFrame.\n",
      "Try using .loc[row_indexer,col_indexer] = value instead\n",
      "\n",
      "See the caveats in the documentation: https://pandas.pydata.org/pandas-docs/stable/user_guide/indexing.html#returning-a-view-versus-a-copy\n",
      "  data_2[key] = data_2[key].apply(lambda r: float(\"nan\") if((r>limits[key][1])|(r<limits[key][0])) else r)\n"
     ]
    }
   ],
   "source": [
    "for key in limits:\n",
    "    data_2[key] = data_2[key].apply(lambda r: float(\"nan\") if((r>limits[key][1])|(r<limits[key][0])) else r)"
   ]
  },
  {
   "cell_type": "markdown",
   "metadata": {},
   "source": [
    "# <p style='text-align:center'> Nettoyage des observations</p>"
   ]
  },
  {
   "cell_type": "code",
   "execution_count": 84,
   "metadata": {},
   "outputs": [],
   "source": [
    "#### On récupère les données nutritionnelles des différents produits \n",
    "column_nutrition=['fat_100g', 'saturated-fat_100g', 'carbohydrates_100g', 'sugars_100g', 'fiber_100g', 'proteins_100g', 'salt_100g', 'sodium_100g', 'fruits-vegetables-nuts-estimate-from-ingredients_100g', 'nutrition-score-fr_100g', 'energy_kcal_100g']\n",
    "data_nut=data[column_nutrition]"
   ]
  },
  {
   "cell_type": "code",
   "execution_count": 85,
   "metadata": {},
   "outputs": [
    {
     "data": {
      "text/plain": [
       "<AxesSubplot:>"
      ]
     },
     "execution_count": 85,
     "metadata": {},
     "output_type": "execute_result"
    },
    {
     "data": {
      "image/png": "[encoded data removed]",
      "text/plain": [
       "<Figure size 648x648 with 1 Axes>"
      ]
     },
     "metadata": {
      "needs_background": "light"
     },
     "output_type": "display_data"
    }
   ],
   "source": [
    "vert_comp_rate=pd.DataFrame(data=data_nut.count(axis=1)*(100/data_nut.shape[1]),columns=['comp_rate'])\n",
    "vert_comp_rate['slice']=(pd.cut(vert_comp_rate['comp_rate'],5)).astype('str')\n",
    "vert_comp_rate.sort_values(by=\"slice\",ascending=True)['slice'].hist(figsize=(9,9))"
   ]
  },
  {
   "cell_type": "markdown",
   "metadata": {},
   "source": [
    "Nous allons utiliser un algorithme KNN_IMPUTER pour remplir les données nutritionnelles manquantes chez certains produits (observations)\n",
    "L'idée est simple, lorsqu'un aliment a des données nutritionnelles non renseignées, on remplace les valeurs manquantes par la \n",
    "moyenne de celle de ces k \"plus proches voisins\", c'est à dire les k aliments qui ont les données nutritionnelles les plus proches au sens d'une métrique bien définie (dans notre cas, la métrique euclidiennes.\n",
    "Pour un aliment donnée, plus on a de données nutritionnelles, plus on l'identifie facilement, donc plus les voisins qui lui sont attribué par le KNN ont de chance de correspondre au même aliment.\n",
    "En raisonnant de cette façon, on déduit que si on a trop peu de données nutritionnelles renseignées pour un aliment, il sera associer à des voisins qui ne correspondent pas au même aliment.\n",
    "C'est pourquoi nous allons fixer un seuil minimum au taux de complétion des données nutritionnelles à nos observations.\n",
    "On fait le choix de le fixer à 40%."
   ]
  },
  {
   "cell_type": "code",
   "execution_count": 87,
   "metadata": {},
   "outputs": [],
   "source": [
    "seuil_cr_nutrition_data=40\n",
    "liste_remove_observations=list(vert_comp_rate[vert_comp_rate['comp_rate']<=seuil_cr_nutrition_data].index)\n",
    "data_3=(data_2.drop(liste_remove_observations)).reset_index(drop=True)"
   ]
  },
  {
   "cell_type": "code",
   "execution_count": 89,
   "metadata": {},
   "outputs": [],
   "source": [
    "# data_3 = data_3.sample(n=100000).reset_index()"
   ]
  },
  {
   "cell_type": "code",
   "execution_count": 90,
   "metadata": {},
   "outputs": [],
   "source": [
    "column_nutrition=['fat_100g', 'saturated-fat_100g', 'carbohydrates_100g', 'sugars_100g', 'fiber_100g', 'proteins_100g', 'salt_100g','sodium_100g','fruits-vegetables-nuts-estimate-from-ingredients_100g','nutrition-score-fr_100g','energy_kcal_100g']\n",
    "data_nutrition = data_3[column_nutrition]"
   ]
  },
  {
   "cell_type": "code",
   "execution_count": 91,
   "metadata": {},
   "outputs": [],
   "source": [
    "scaler = MinMaxScaler()"
   ]
  },
  {
   "cell_type": "code",
   "execution_count": 92,
   "metadata": {},
   "outputs": [],
   "source": [
    "data_nutrition_scaled=pd.DataFrame(scaler.fit_transform(X=data_nutrition.values),columns=column_nutrition)"
   ]
  },
  {
   "cell_type": "markdown",
   "metadata": {},
   "source": [
    "# Gestion des  outliers"
   ]
  },
  {
   "cell_type": "code",
   "execution_count": 93,
   "metadata": {},
   "outputs": [],
   "source": [
    "data_outlier=data_3[['pnns_groups_2','fat_100g', 'saturated-fat_100g', 'carbohydrates_100g', 'sugars_100g', 'fiber_100g', 'proteins_100g', 'salt_100g','sodium_100g','fruits-vegetables-nuts-estimate-from-ingredients_100g','nutrition-score-fr_100g','energy_kcal_100g']]"
   ]
  },
  {
   "cell_type": "code",
   "execution_count": 94,
   "metadata": {},
   "outputs": [],
   "source": [
    "# data_outlier.groupby('pnns_groups_2').mean()"
   ]
  },
  {
   "cell_type": "code",
   "execution_count": 95,
   "metadata": {},
   "outputs": [],
   "source": [
    "# data_outlier.groupby('pnns_groups_2').median()"
   ]
  },
  {
   "cell_type": "code",
   "execution_count": 96,
   "metadata": {},
   "outputs": [
    {
     "data": {
      "text/plain": [
       "Text(0.5, 0.98, 'boxplot de la variable fat_100g en fonction de quelques pnns_groups_2')"
      ]
     },
     "execution_count": 96,
     "metadata": {},
     "output_type": "execute_result"
    },
    {
     "data": {
      "image/png": "[encoded data removed]",
      "text/plain": [
       "<Figure size 1080x1080 with 1 Axes>"
      ]
     },
     "metadata": {
      "needs_background": "light"
     },
     "output_type": "display_data"
    }
   ],
   "source": [
    "plt.subplots(figsize=(15,15))\n",
    "sns.boxplot(x=\"fat_100g\",y=\"pnns_groups_2\",data=data_outlier[data_outlier['pnns_groups_2'].isin(['unknown','Dressings and sauces','Fish and seafood','Fruits','Pastries','Vegetables'])])\n",
    "plt.suptitle('boxplot de la variable fat_100g en fonction de quelques pnns_groups_2',size=18)"
   ]
  },
  {
   "cell_type": "code",
   "execution_count": 97,
   "metadata": {},
   "outputs": [
    {
     "data": {
      "text/html": [
       "<div>\n",
       "<style scoped>\n",
       "    .dataframe tbody tr th:only-of-type {\n",
       "        vertical-align: middle;\n",
       "    }\n",
       "\n",
       "    .dataframe tbody tr th {\n",
       "        vertical-align: top;\n",
       "    }\n",
       "\n",
       "    .dataframe thead th {\n",
       "        text-align: right;\n",
       "    }\n",
       "</style>\n",
       "<table border=\"1\" class=\"dataframe\">\n",
       "  <thead>\n",
       "    <tr style=\"text-align: right;\">\n",
       "      <th></th>\n",
       "      <th>code</th>\n",
       "      <th>url</th>\n",
       "      <th>creator</th>\n",
       "      <th>created_t</th>\n",
       "      <th>created_datetime</th>\n",
       "      <th>last_modified_t</th>\n",
       "      <th>last_modified_datetime</th>\n",
       "      <th>product_name</th>\n",
       "      <th>abbreviated_product_name</th>\n",
       "      <th>generic_name</th>\n",
       "      <th>...</th>\n",
       "      <th>nutrition-score-fr_100g</th>\n",
       "      <th>nutrition-score-uk_100g</th>\n",
       "      <th>glycemic-index_100g</th>\n",
       "      <th>water-hardness_100g</th>\n",
       "      <th>choline_100g</th>\n",
       "      <th>phylloquinone_100g</th>\n",
       "      <th>beta-glucan_100g</th>\n",
       "      <th>inositol_100g</th>\n",
       "      <th>carnitine_100g</th>\n",
       "      <th>energy_kcal_100g</th>\n",
       "    </tr>\n",
       "  </thead>\n",
       "  <tbody>\n",
       "    <tr>\n",
       "      <th>41847</th>\n",
       "      <td>1108310509646</td>\n",
       "      <td>http://world-en.openfoodfacts.org/product/1108...</td>\n",
       "      <td>kiliweb</td>\n",
       "      <td>1619711102</td>\n",
       "      <td>2021-04-29T15:45:02Z</td>\n",
       "      <td>1631198475</td>\n",
       "      <td>2021-09-09T14:41:15Z</td>\n",
       "      <td>Tomate côtelée</td>\n",
       "      <td>NaN</td>\n",
       "      <td>NaN</td>\n",
       "      <td>...</td>\n",
       "      <td>22.0</td>\n",
       "      <td>NaN</td>\n",
       "      <td>NaN</td>\n",
       "      <td>NaN</td>\n",
       "      <td>NaN</td>\n",
       "      <td>NaN</td>\n",
       "      <td>NaN</td>\n",
       "      <td>NaN</td>\n",
       "      <td>NaN</td>\n",
       "      <td>0.978011</td>\n",
       "    </tr>\n",
       "    <tr>\n",
       "      <th>22426</th>\n",
       "      <td>3760253401074</td>\n",
       "      <td>http://world-en.openfoodfacts.org/product/3760...</td>\n",
       "      <td>kiliweb</td>\n",
       "      <td>1610740165</td>\n",
       "      <td>2021-01-15T19:49:25Z</td>\n",
       "      <td>1631199156</td>\n",
       "      <td>2021-09-09T14:52:36Z</td>\n",
       "      <td>Tomates séchées et origan</td>\n",
       "      <td>NaN</td>\n",
       "      <td>NaN</td>\n",
       "      <td>...</td>\n",
       "      <td>16.0</td>\n",
       "      <td>NaN</td>\n",
       "      <td>NaN</td>\n",
       "      <td>NaN</td>\n",
       "      <td>NaN</td>\n",
       "      <td>NaN</td>\n",
       "      <td>NaN</td>\n",
       "      <td>NaN</td>\n",
       "      <td>NaN</td>\n",
       "      <td>548.020076</td>\n",
       "    </tr>\n",
       "    <tr>\n",
       "      <th>14831</th>\n",
       "      <td>62781067771</td>\n",
       "      <td>http://world-en.openfoodfacts.org/product/0062...</td>\n",
       "      <td>kiliweb</td>\n",
       "      <td>1583875455</td>\n",
       "      <td>2020-03-10T21:24:15Z</td>\n",
       "      <td>1603105329</td>\n",
       "      <td>2020-10-19T11:02:09Z</td>\n",
       "      <td>Oignons frits</td>\n",
       "      <td>NaN</td>\n",
       "      <td>NaN</td>\n",
       "      <td>...</td>\n",
       "      <td>NaN</td>\n",
       "      <td>NaN</td>\n",
       "      <td>NaN</td>\n",
       "      <td>NaN</td>\n",
       "      <td>NaN</td>\n",
       "      <td>NaN</td>\n",
       "      <td>NaN</td>\n",
       "      <td>NaN</td>\n",
       "      <td>NaN</td>\n",
       "      <td>633.349267</td>\n",
       "    </tr>\n",
       "    <tr>\n",
       "      <th>30685</th>\n",
       "      <td>3760087360998</td>\n",
       "      <td>http://world-en.openfoodfacts.org/product/3760...</td>\n",
       "      <td>kiliweb</td>\n",
       "      <td>1498494949</td>\n",
       "      <td>2017-06-26T16:35:49Z</td>\n",
       "      <td>1620370655</td>\n",
       "      <td>2021-05-07T06:57:35Z</td>\n",
       "      <td>Fèves de Cacao entières crues et non torréfiées</td>\n",
       "      <td>NaN</td>\n",
       "      <td>Fèves de cacao</td>\n",
       "      <td>...</td>\n",
       "      <td>1.0</td>\n",
       "      <td>NaN</td>\n",
       "      <td>NaN</td>\n",
       "      <td>NaN</td>\n",
       "      <td>NaN</td>\n",
       "      <td>NaN</td>\n",
       "      <td>NaN</td>\n",
       "      <td>NaN</td>\n",
       "      <td>NaN</td>\n",
       "      <td>559.236711</td>\n",
       "    </tr>\n",
       "    <tr>\n",
       "      <th>106234</th>\n",
       "      <td>27041642</td>\n",
       "      <td>http://world-en.openfoodfacts.org/product/2704...</td>\n",
       "      <td>kiliweb</td>\n",
       "      <td>1535057421</td>\n",
       "      <td>2018-08-23T20:50:21Z</td>\n",
       "      <td>1603105282</td>\n",
       "      <td>2020-10-19T11:01:22Z</td>\n",
       "      <td>Oignons Frits</td>\n",
       "      <td>NaN</td>\n",
       "      <td>NaN</td>\n",
       "      <td>...</td>\n",
       "      <td>15.0</td>\n",
       "      <td>NaN</td>\n",
       "      <td>NaN</td>\n",
       "      <td>NaN</td>\n",
       "      <td>NaN</td>\n",
       "      <td>NaN</td>\n",
       "      <td>NaN</td>\n",
       "      <td>NaN</td>\n",
       "      <td>NaN</td>\n",
       "      <td>590.052581</td>\n",
       "    </tr>\n",
       "  </tbody>\n",
       "</table>\n",
       "<p>5 rows × 188 columns</p>\n",
       "</div>"
      ],
      "text/plain": [
       "                 code                                                url  \\\n",
       "41847   1108310509646  http://world-en.openfoodfacts.org/product/1108...   \n",
       "22426   3760253401074  http://world-en.openfoodfacts.org/product/3760...   \n",
       "14831     62781067771  http://world-en.openfoodfacts.org/product/0062...   \n",
       "30685   3760087360998  http://world-en.openfoodfacts.org/product/3760...   \n",
       "106234       27041642  http://world-en.openfoodfacts.org/product/2704...   \n",
       "\n",
       "        creator   created_t      created_datetime  last_modified_t  \\\n",
       "41847   kiliweb  1619711102  2021-04-29T15:45:02Z       1631198475   \n",
       "22426   kiliweb  1610740165  2021-01-15T19:49:25Z       1631199156   \n",
       "14831   kiliweb  1583875455  2020-03-10T21:24:15Z       1603105329   \n",
       "30685   kiliweb  1498494949  2017-06-26T16:35:49Z       1620370655   \n",
       "106234  kiliweb  1535057421  2018-08-23T20:50:21Z       1603105282   \n",
       "\n",
       "       last_modified_datetime  \\\n",
       "41847    2021-09-09T14:41:15Z   \n",
       "22426    2021-09-09T14:52:36Z   \n",
       "14831    2020-10-19T11:02:09Z   \n",
       "30685    2021-05-07T06:57:35Z   \n",
       "106234   2020-10-19T11:01:22Z   \n",
       "\n",
       "                                           product_name  \\\n",
       "41847                                    Tomate côtelée   \n",
       "22426                         Tomates séchées et origan   \n",
       "14831                                     Oignons frits   \n",
       "30685   Fèves de Cacao entières crues et non torréfiées   \n",
       "106234                                    Oignons Frits   \n",
       "\n",
       "       abbreviated_product_name    generic_name  ... nutrition-score-fr_100g  \\\n",
       "41847                       NaN             NaN  ...                    22.0   \n",
       "22426                       NaN             NaN  ...                    16.0   \n",
       "14831                       NaN             NaN  ...                     NaN   \n",
       "30685                       NaN  Fèves de cacao  ...                     1.0   \n",
       "106234                      NaN             NaN  ...                    15.0   \n",
       "\n",
       "       nutrition-score-uk_100g glycemic-index_100g water-hardness_100g  \\\n",
       "41847                      NaN                 NaN                 NaN   \n",
       "22426                      NaN                 NaN                 NaN   \n",
       "14831                      NaN                 NaN                 NaN   \n",
       "30685                      NaN                 NaN                 NaN   \n",
       "106234                     NaN                 NaN                 NaN   \n",
       "\n",
       "       choline_100g phylloquinone_100g beta-glucan_100g inositol_100g  \\\n",
       "41847           NaN                NaN              NaN           NaN   \n",
       "22426           NaN                NaN              NaN           NaN   \n",
       "14831           NaN                NaN              NaN           NaN   \n",
       "30685           NaN                NaN              NaN           NaN   \n",
       "106234          NaN                NaN              NaN           NaN   \n",
       "\n",
       "       carnitine_100g energy_kcal_100g  \n",
       "41847             NaN         0.978011  \n",
       "22426             NaN       548.020076  \n",
       "14831             NaN       633.349267  \n",
       "30685             NaN       559.236711  \n",
       "106234            NaN       590.052581  \n",
       "\n",
       "[5 rows x 188 columns]"
      ]
     },
     "execution_count": 97,
     "metadata": {},
     "output_type": "execute_result"
    }
   ],
   "source": [
    "data[data['pnns_groups_2']=='Vegetables'].sort_values('fat_100g',ascending=False).head()#[['product_name','fat_100g']]"
   ]
  },
  {
   "cell_type": "code",
   "execution_count": 98,
   "metadata": {},
   "outputs": [
    {
     "data": {
      "text/plain": [
       "Text(0.5, 0.98, 'boxplot de la variable fat_100g en fonction de quelques pnns_groups_2')"
      ]
     },
     "execution_count": 98,
     "metadata": {},
     "output_type": "execute_result"
    },
    {
     "data": {
      "image/png": "[encoded data removed]",
      "text/plain": [
       "<Figure size 1080x1080 with 1 Axes>"
      ]
     },
     "metadata": {
      "needs_background": "light"
     },
     "output_type": "display_data"
    }
   ],
   "source": [
    "plt.subplots(figsize=(15,15))\n",
    "sns.boxplot(x=\"salt_100g\",y=\"pnns_groups_2\",data=data_outlier[data_outlier['pnns_groups_2'].isin(['unknown','Dressings and sauces','Fish and seafood','Fruits','Pastries','Vegetables'])])\n",
    "plt.suptitle('boxplot de la variable fat_100g en fonction de quelques pnns_groups_2',size=18)"
   ]
  },
  {
   "cell_type": "markdown",
   "metadata": {},
   "source": [
    "# Complétion des données"
   ]
  },
  {
   "cell_type": "code",
   "execution_count": 99,
   "metadata": {},
   "outputs": [],
   "source": [
    "knn_imputer = KNNImputer(n_neighbors=2)"
   ]
  },
  {
   "cell_type": "code",
   "execution_count": 100,
   "metadata": {},
   "outputs": [],
   "source": [
    "data_nutrition_imputed=knn_imputer.fit_transform(data_nutrition_scaled)"
   ]
  },
  {
   "cell_type": "code",
   "execution_count": 101,
   "metadata": {},
   "outputs": [],
   "source": [
    "data_inputed_non_scaled=scaler.inverse_transform(data_nutrition_imputed)"
   ]
  },
  {
   "cell_type": "code",
   "execution_count": 102,
   "metadata": {},
   "outputs": [],
   "source": [
    "data_inputed_non_scaled=pd.DataFrame(data_inputed_non_scaled,columns=column_nutrition) "
   ]
  },
  {
   "cell_type": "code",
   "execution_count": 103,
   "metadata": {},
   "outputs": [],
   "source": [
    "data_imputed=pd.concat([data_3[['code', 'url', 'created_datetime', 'last_modified_datetime','product_name', 'brands', 'origins_en', 'manufacturing_places','labels_en', 'first_packaging_code_geo', 'cities_tags','purchase_places', 'stores', 'countries_en', 'ingredients_text','allergens', 'traces_en', 'additives_en', 'ingredients_from_palm_oil_n','nutriscore_grade', 'nova_group', 'pnns_groups_2', 'states','ecoscore_grade_fr', 'main_category_en', 'image_small_url']],data_inputed_non_scaled],axis=1)"
   ]
  },
  {
   "cell_type": "code",
   "execution_count": 104,
   "metadata": {},
   "outputs": [
    {
     "data": {
      "text/plain": [
       "(104332, 37)"
      ]
     },
     "execution_count": 104,
     "metadata": {},
     "output_type": "execute_result"
    }
   ],
   "source": [
    "data_imputed.shape"
   ]
  },
  {
   "cell_type": "code",
   "execution_count": 107,
   "metadata": {},
   "outputs": [],
   "source": [
    "n_split = 10\n",
    "n = data_imputed.shape[0]\n",
    "filecount = 1\n",
    "p = n//int(n_split)\n",
    "for i in range(n):\n",
    "    if i % p == 0:\n",
    "        data_imputed.iloc[i:i+p].to_csv('cleaned_data/cleaned_data.csv'.replace(\".csv\",\"_\") + str(filecount) + '.csv', index = False)\n",
    "        filecount += 1"
   ]
  }
 ],
 "metadata": {
  "kernelspec": {
   "display_name": "Python 3 (ipykernel)",
   "language": "python",
   "name": "python3"
  },
  "language_info": {
   "codemirror_mode": {
    "name": "ipython",
    "version": 3
   },
   "file_extension": ".py",
   "mimetype": "text/x-python",
   "name": "python",
   "nbconvert_exporter": "python",
   "pygments_lexer": "ipython3",
   "version": "3.10.4"
  }
 },
 "nbformat": 4,
 "nbformat_minor": 4
}
